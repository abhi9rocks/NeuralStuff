{
  "nbformat": 4,
  "nbformat_minor": 0,
  "metadata": {
    "colab": {
      "name": "Task3.ipynb",
      "provenance": [],
      "authorship_tag": "ABX9TyMtwN0OXMPmDrqQZ/uDSYge",
      "include_colab_link": true
    },
    "kernelspec": {
      "name": "python3",
      "display_name": "Python 3"
    },
    "language_info": {
      "name": "python"
    }
  },
  "cells": [
    {
      "cell_type": "markdown",
      "metadata": {
        "id": "view-in-github",
        "colab_type": "text"
      },
      "source": [
        "<a href=\"https://colab.research.google.com/github/abhi9rocks/NeuralStuff/blob/main/Task3.ipynb\" target=\"_parent\"><img src=\"https://colab.research.google.com/assets/colab-badge.svg\" alt=\"Open In Colab\"/></a>"
      ]
    },
    {
      "cell_type": "code",
      "metadata": {
        "id": "hNWxUEeEIteh"
      },
      "source": [
        "from IPython.display import HTML, clear_output\n",
        "from subprocess import getoutput\n",
        "s = getoutput('nvidia-smi')\n",
        "if 'K80' in s:gpu = 'K80'\n",
        "elif 'T4' in s:gpu = 'T4'\n",
        "elif 'P100' in s:gpu = 'P100'\n",
        "else:\n",
        "    gpu='DONT PROCEED'\n",
        "display(HTML(f\"<h1>{gpu}</h1>\"))"
      ],
      "execution_count": null,
      "outputs": []
    },
    {
      "cell_type": "code",
      "metadata": {
        "id": "d8CddPoUI3Bh"
      },
      "source": [
        "from google.colab import drive\n",
        "from os import listdir, remove, makedirs\n",
        "from os.path import join, exists\n",
        "import random\n",
        "drive.mount('/gdrive')\n",
        "%cd /gdrive/My Drive/darknet\n",
        "!chmod +x ./darknet\n",
        "!./darknet"
      ],
      "execution_count": null,
      "outputs": []
    },
    {
      "cell_type": "code",
      "metadata": {
        "id": "IOGZZgbRI3Xm"
      },
      "source": [
        "# change this path\n",
        "inputpath=\"footwear\"\n",
        "if \"gdrive\" not in inputpath:\n",
        "    inputpath = \"/gdrive/MyDrive/\"+inputpath\n",
        "if exists(inputpath):\n",
        "    x = input(\"Which model you want to train?\\n\\t1. tiny model\\n\\t2. tiny plus model\\n\\t3. big model\\n\")\n",
        "    dont_run=False\n",
        "    if x=='1':model_type = \"tiny_model\"\n",
        "    elif x=='2':model_type = \"tiny_plus_model\"\n",
        "    elif x=='3':model_type = \"big_model\"\n",
        "    else:\n",
        "        dont_run=True\n",
        "        clear_output()\n",
        "        print(\"Enter correct input among 1,2 and 3.\")\n",
        "else:\n",
        "    print(inputpath, \"cannot be found please correct it.\")"
      ],
      "execution_count": null,
      "outputs": []
    },
    {
      "cell_type": "code",
      "metadata": {
        "id": "PlTXjF3JI3ss"
      },
      "source": [
        "def check_existence(folder, count=0):\n",
        "    tmp=\"\" if count==0 else \"_\"+str(count)\n",
        "    check_folder = folder+tmp\n",
        "    if (check_folder in listdir(\".\")) and (len([k for k in listdir(check_folder) if \".weights\" in k])!=0):\n",
        "        count+=1\n",
        "        return check_existence(folder, count)\n",
        "    else:\n",
        "        return check_folder\n",
        "def get_all_files(folder:str, result:dict):\n",
        "    tmp = sorted(listdir(folder))\n",
        "    result[folder]=[i for i in tmp if (\".jpg\" in i) or (\".txt\" in i)]\n",
        "    for i in tmp:\n",
        "        if \".\" not in i:\n",
        "            get_all_files(join(folder, i), result)\n",
        "def get_images_txt(folder:str):\n",
        "    data = {}\n",
        "    get_all_files(folder, data)\n",
        "    del data[folder]\n",
        "    final_data = {}\n",
        "    for i in data.keys():\n",
        "        if len(data[i])==0:\n",
        "            continue\n",
        "        class_ = i[len(folder)+1:].split(\"/\")[0]\n",
        "        if class_ not in final_data.keys():\n",
        "            final_data[class_]={}\n",
        "        final_data[class_][i] = []\n",
        "        for j in range(len(data[i])-1):\n",
        "            if data[i][j][:data[i][j].rfind('.')]==data[i][j+1][:data[i][j+1].rfind('.')]:\n",
        "                final_data[class_][i].append([i+'/'+data[i][j], i+'/'+data[i][j+1]])\n",
        "                j+=1\n",
        "    return final_data"
      ],
      "execution_count": null,
      "outputs": []
    },
    {
      "cell_type": "code",
      "metadata": {
        "id": "QRUVfwnqI4BX"
      },
      "source": [
        "if not dont_run:\n",
        "    clear_output()\n",
        "    outputpath=\"_\".join(inputpath.split(\"/\")[3:])+\"_\"+model_type\n",
        "    outputpath = check_existence(outputpath)\n",
        "    print(\"Output folder is \"+outputpath+\".\")\n",
        "    x = input(\"Please confirm to create the output folder (y/n):\")\n",
        "    if x == 'y':\n",
        "        if not exists(outputpath):\n",
        "            makedirs(outputpath)\n",
        "        print(\"Output folder created.\")\n",
        "    elif x == 'n':\n",
        "        print(\"Output folder not created.\")\n",
        "    else:\n",
        "        print(\"Please input valid character.\")"
      ],
      "execution_count": null,
      "outputs": []
    },
    {
      "cell_type": "code",
      "metadata": {
        "id": "aMU1CwUzI4oy"
      },
      "source": [
        "threshold = 10\n",
        "data = get_images_txt(inputpath)\n",
        "key_list = sorted(list(data.keys()))\n",
        "count=0\n",
        "for i in key_list:\n",
        "    l = sum([len(k) for k in data[i].values()])\n",
        "    if l>threshold:\n",
        "        print(count,i, l)\n",
        "        count+=1\n",
        "    else:\n",
        "        del data[i]\n",
        "x = input(\"Please confirm that classes and count of images are correct (y/n):\")\n",
        "if x == 'y':\n",
        "    classes = sorted(data.keys())\n",
        "    print(\"Classes selected.\")\n",
        "elif x == 'n':\n",
        "    classes = None\n",
        "    print(\"Classes not selected.\")\n",
        "else:\n",
        "    classes = None\n",
        "    print(\"Please input valid character.\")"
      ],
      "execution_count": null,
      "outputs": []
    },
    {
      "cell_type": "code",
      "metadata": {
        "id": "CpsreDi5I4-n"
      },
      "source": [
        "for id in range(len(classes)):\n",
        "    tmp = 0\n",
        "    cls = classes[id]\n",
        "    print(cls+\"-\", end = \" \")\n",
        "    for i in data[cls].keys():\n",
        "        for j in data[cls][i]:\n",
        "            f = open(j[1],'r')\n",
        "            s = [k.split(\" \") for k in f.read().split('\\n')]\n",
        "            s = [k for k in s if len(k)==5]\n",
        "            s = [[str(id)]+k[1:] for k in s]\n",
        "            s = \"\\n\".join([\" \".join(k) for k in s])+\"\\n\"\n",
        "            f.close()\n",
        "            f = open(j[1],'w')\n",
        "            f.write(s)\n",
        "            f.close()\n",
        "            tmp+=1\n",
        "            if tmp%100==0:\n",
        "                print(tmp, end=\".. \")\n",
        "    print(tmp)"
      ],
      "execution_count": null,
      "outputs": []
    },
    {
      "cell_type": "code",
      "metadata": {
        "id": "ApuYLUVSI5mk"
      },
      "source": [
        "train=[]\n",
        "for id in range(len(classes)):\n",
        "    for i in data[classes[id]].keys():\n",
        "        train.extend([k[0] for k in data[classes[id]][i]])\n",
        "train=[i for i in train if \".txt\" not in i]\n",
        "random.shuffle(train)\n",
        "l=len(train)\n",
        "valid=train[int(l*5/6):]\n",
        "train=train[:int(l*5/6)]\n",
        "f=open(join(outputpath, model_type+\"_train.txt\"),'w')\n",
        "f.write(\"\\n\".join(train))\n",
        "f.close()\n",
        "f=open(join(outputpath, model_type+\"_valid.txt\"),'w')\n",
        "f.write(\"\\n\".join(valid))\n",
        "f.close()"
      ],
      "execution_count": null,
      "outputs": []
    },
    {
      "cell_type": "code",
      "metadata": {
        "id": "W2853cOnI58w"
      },
      "source": [
        "f=open(join(outputpath, model_type+\"_obj.names\"),'w')\n",
        "f.write(\"\\n\".join(classes))\n",
        "f.close()\n",
        "numClass=len(classes)\n",
        "objdata=[\"classes= \"+str(numClass),\n",
        "         \"train = \"+join(outputpath, model_type+\"_train.txt\"),\n",
        "         \"valid = \"+join(outputpath, model_type+\"_valid.txt\"),\n",
        "         \"names = \"+join(outputpath, model_type+\"_obj.names\"),\n",
        "         \"backup = \"+outputpath+\"/\"]\n",
        "f=open(join(outputpath, model_type+\"_obj.data\"),\"w\")\n",
        "f.write(\"\\n\".join(objdata))\n",
        "f.close()"
      ],
      "execution_count": null,
      "outputs": []
    },
    {
      "cell_type": "code",
      "metadata": {
        "id": "vX67cBbZI6h3"
      },
      "source": [
        "import shutil\n",
        "dest_cfg_name = model_type+\"_yolov4.cfg\"\n",
        "if model_type == \"tiny_model\":\n",
        "    src_cfg_name = \"yolov4-tiny-custom.cfg\"\n",
        "    netSize=416\n",
        "    batch=64\n",
        "    subdiv=1\n",
        "    max_batches_multiplier = 3000\n",
        "    default_max_batch = 500200\n",
        "elif model_type == \"tiny_plus_model\":\n",
        "    src_cfg_name = \"yolov4-tiny-custom.cfg\"\n",
        "    netSize=608\n",
        "    batch=64\n",
        "    subdiv=2\n",
        "    max_batches_multiplier = 3000\n",
        "    default_max_batch = 500200\n",
        "elif model_type == \"big_model\":\n",
        "    src_cfg_name = \"yolov4-custom.cfg\"\n",
        "    netSize=416\n",
        "    batch=64\n",
        "    subdiv=16\n",
        "    max_batches_multiplier = 2000\n",
        "    default_max_batch = 500500\n",
        "if dest_cfg_name not in listdir(outputpath):\n",
        "    shutil.copy(\"cfg/\"+src_cfg_name, outputpath+'/'+dest_cfg_name)\n",
        "else:\n",
        "    remove(outputpath+'/'+dest_cfg_name)\n",
        "    shutil.copy(\"cfg/\"+src_cfg_name, outputpath+'/'+dest_cfg_name)"
      ],
      "execution_count": null,
      "outputs": []
    },
    {
      "cell_type": "code",
      "metadata": {
        "id": "tJX7GxbmI68M"
      },
      "source": [
        "#change number of class and filters\n",
        "comm='s/classes=80/classes='+str(numClass)+\"/\"\n",
        "!sed -i $comm $outputpath/$dest_cfg_name\n",
        "comm='s/filters=255/filters='+str((numClass+5)*3)+\"/\"\n",
        "!sed -i $comm $outputpath/$dest_cfg_name\n",
        "\n",
        "#change number of steps and max batches\n",
        "max_batches=max(6000,(numClass)*max_batches_multiplier)\n",
        "comm='s/max_batches\\ =\\ '+str(default_max_batch)+'/max_batches\\ =\\ '+str(max_batches)+\"/\"\n",
        "!sed -i $comm $outputpath/$dest_cfg_name\n",
        "comm='s/steps=400000,450000/steps='+str(int(0.8*max_batches))+','+str(int(0.9*max_batches))+\"/\"\n",
        "!sed -i $comm $outputpath/$dest_cfg_name\n",
        "\n",
        "#can be multiple of 32 or 608(but makes training slow)\n",
        "comm='s/width=416/width='+str(netSize)+\"/\"\n",
        "!sed -i $comm $outputpath/$dest_cfg_name\n",
        "comm='s/height=416/height='+str(netSize)+\"/\"\n",
        "!sed -i $comm $outputpath/$dest_cfg_name\n",
        "\n",
        "comm='s/batch=64/batch='+str(batch)+'/'\n",
        "!sed -i $comm $outputpath/$dest_cfg_name\n",
        "comm='s/subdivisions=1/subdivisions='+str(subdiv)+'/'\n",
        "!sed -i $comm $outputpath/$dest_cfg_name"
      ],
      "execution_count": null,
      "outputs": []
    },
    {
      "cell_type": "code",
      "metadata": {
        "id": "P-RrDpo8I7Zm"
      },
      "source": [
        "if \"yolov4.conv.137\" not in listdir():\n",
        "    !wget https://github.com/AlexeyAB/darknet/releases/download/darknet_yolo_v3_optimal/yolov4.conv.137\n",
        "if \"yolov4-tiny.conv.29\" not in listdir():\n",
        "    !wget https://github.com/AlexeyAB/darknet/releases/download/darknet_yolo_v4_pre/yolov4-tiny.conv.29"
      ],
      "execution_count": null,
      "outputs": []
    },
    {
      "cell_type": "code",
      "metadata": {
        "id": "ms763DFwI7yM"
      },
      "source": [
        "# RUN ONLY IN CASE 2\n",
        "outputpath = 'footwear_big_model'"
      ],
      "execution_count": null,
      "outputs": []
    },
    {
      "cell_type": "code",
      "metadata": {
        "id": "_fogFB6vI8Jy"
      },
      "source": [
        "obj_file = None\n",
        "cfg_file = None\n",
        "\n",
        "if \"tiny_model\" in outputpath : model_name = \"yolov4-tiny.conv.29\"\n",
        "elif \"tiny_plus_model\" in outputpath : model_name = \"yolov4-tiny.conv.29\"\n",
        "elif \"big_model\" in outputpath : model_name = \"yolov4.conv.137\"\n",
        "\n",
        "for i in listdir(outputpath):\n",
        "    if \"obj.data\" in i:\n",
        "        obj_file = join(outputpath, i)\n",
        "    elif \".cfg\" in i:\n",
        "        cfg_file = join(outputpath, i)\n",
        "\n",
        "if obj_file == None:\n",
        "    print(\".data file not found in\", outputpath)\n",
        "\n",
        "if cfg_file ==None:\n",
        "    print(\".cfg file not found in\", outputpath)\n",
        "\n",
        "if (obj_file != None) and (cfg_file != None):\n",
        "    !./darknet detector train $obj_file $cfg_file $model_name -dont_show -map"
      ],
      "execution_count": null,
      "outputs": []
    },
    {
      "cell_type": "code",
      "metadata": {
        "id": "8zyDDpvBI8kV"
      },
      "source": [
        "outputpath = input(\"Write the outputpath where previous training was done?\\n\")\n",
        "clear_output()\n",
        "\n",
        "obj_file = None\n",
        "cfg_file = None\n",
        "last_weight = None\n",
        "folder_exists = exists(outputpath)\n",
        "if folder_exists:\n",
        "    for i in listdir(outputpath):\n",
        "        if \"obj.data\" in i:\n",
        "            obj_file = join(outputpath, i)\n",
        "        elif \".cfg\" in i:\n",
        "            cfg_file = join(outputpath, i)\n",
        "        elif \"last.weights\" in i:\n",
        "            last_weight = join(outputpath, i)\n",
        "else:\n",
        "    print(outputpath, \"does not exist please check the name.\")\n",
        "\n",
        "if (obj_file == None) and (folder_exists):\n",
        "    print(\".data file not found in\", outputpath)\n",
        "if (cfg_file ==None) and (folder_exists):\n",
        "    print(\".cfg file not found in\", outputpath)\n",
        "if (last_weight ==None) and (folder_exists):\n",
        "    print(\"last.weights file not found in\", outputpath)\n",
        "\n",
        "if (obj_file != None) and (cfg_file != None) and (last_weight != None):\n",
        "    !./darknet detector train $obj_file $cfg_file $last_weight -dont_show -map"
      ],
      "execution_count": null,
      "outputs": []
    },
    {
      "cell_type": "code",
      "metadata": {
        "id": "R9WdH4u0I9HT"
      },
      "source": [
        ""
      ],
      "execution_count": null,
      "outputs": []
    },
    {
      "cell_type": "code",
      "metadata": {
        "id": "t3FqpbbjI9nk"
      },
      "source": [
        ""
      ],
      "execution_count": null,
      "outputs": []
    },
    {
      "cell_type": "code",
      "metadata": {
        "id": "YYmz50L7I-Jq"
      },
      "source": [
        ""
      ],
      "execution_count": null,
      "outputs": []
    },
    {
      "cell_type": "code",
      "metadata": {
        "id": "QOUzunimI-jb"
      },
      "source": [
        ""
      ],
      "execution_count": null,
      "outputs": []
    },
    {
      "cell_type": "code",
      "metadata": {
        "id": "nnHA6HITI-xU"
      },
      "source": [
        ""
      ],
      "execution_count": null,
      "outputs": []
    },
    {
      "cell_type": "code",
      "metadata": {
        "id": "S6hIyI3bI--h"
      },
      "source": [
        ""
      ],
      "execution_count": null,
      "outputs": []
    },
    {
      "cell_type": "code",
      "metadata": {
        "id": "1HcXFDV-I_LQ"
      },
      "source": [
        ""
      ],
      "execution_count": null,
      "outputs": []
    }
  ]
}