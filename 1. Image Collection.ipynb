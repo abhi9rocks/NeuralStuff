{
 "cells": [
  {
   "cell_type": "markdown",
   "metadata": {},
   "source": [
    "# 1. Import Dependencies"
   ]
  },
  {
   "cell_type": "code",
   "execution_count": 1,
   "metadata": {},
   "outputs": [
    {
     "name": "stdout",
     "output_type": "stream",
     "text": [
      "Collecting opencv-python\n",
      "  Using cached opencv_python-4.5.1.48-cp36-cp36m-win_amd64.whl (34.9 MB)\n",
      "Collecting numpy>=1.13.3\n",
      "  Using cached numpy-1.19.5-cp36-cp36m-win_amd64.whl (13.2 MB)\n",
      "Installing collected packages: numpy, opencv-python\n",
      "Successfully installed numpy-1.19.5 opencv-python-4.5.1.48\n"
     ]
    }
   ],
   "source": [
    "!pip install opencv-python"
   ]
  },
  {
   "cell_type": "code",
   "execution_count": 2,
   "metadata": {},
   "outputs": [],
   "source": [
    "# Import opencv\n",
    "import cv2 \n",
    "\n",
    "# Import uuid\n",
    "import uuid\n",
    "\n",
    "# Import Operating System\n",
    "import os\n",
    "\n",
    "# Import time\n",
    "import time"
   ]
  },
  {
   "cell_type": "markdown",
   "metadata": {},
   "source": [
    "# 2. Define Images to Collect"
   ]
  },
  {
   "cell_type": "code",
   "execution_count": 3,
   "metadata": {},
   "outputs": [],
   "source": [
    "labels = ['thumbsup', 'thumbsdown', 'thankyou', 'livelong']\n",
    "number_imgs = 6"
   ]
  },
  {
   "cell_type": "markdown",
   "metadata": {},
   "source": [
    "# 3. Setup Folders "
   ]
  },
  {
   "cell_type": "code",
   "execution_count": 4,
   "metadata": {},
   "outputs": [],
   "source": [
    "IMAGES_PATH = os.path.join('Tensorflow', 'workspace', 'images', 'collectedimages')"
   ]
  },
  {
   "cell_type": "code",
   "execution_count": 5,
   "metadata": {},
   "outputs": [],
   "source": [
    "if not os.path.exists(IMAGES_PATH):\n",
    "    if os.name == 'posix':\n",
    "        !mkdir -p {IMAGES_PATH}\n",
    "    if os.name == 'nt':\n",
    "         !mkdir {IMAGES_PATH}\n",
    "for label in labels:\n",
    "    path = os.path.join(IMAGES_PATH, label)\n",
    "    if not os.path.exists(path):\n",
    "        !mkdir {path}"
   ]
  },
  {
   "cell_type": "markdown",
   "metadata": {},
   "source": [
    "# 4. Capture Images"
   ]
  },
  {
   "cell_type": "code",
   "execution_count": 6,
   "metadata": {},
   "outputs": [
    {
     "name": "stdout",
     "output_type": "stream",
     "text": [
      "Collecting images for thumbsup\n",
      "Collecting image 0\n",
      "Collecting image 1\n",
      "Collecting image 2\n",
      "Collecting image 3\n",
      "Collecting image 4\n",
      "Collecting image 5\n",
      "Collecting images for thumbsdown\n",
      "Collecting image 0\n",
      "Collecting image 1\n",
      "Collecting image 2\n",
      "Collecting image 3\n",
      "Collecting image 4\n",
      "Collecting image 5\n",
      "Collecting images for thankyou\n",
      "Collecting image 0\n",
      "Collecting image 1\n",
      "Collecting image 2\n",
      "Collecting image 3\n",
      "Collecting image 4\n",
      "Collecting image 5\n",
      "Collecting images for livelong\n",
      "Collecting image 0\n",
      "Collecting image 1\n",
      "Collecting image 2\n",
      "Collecting image 3\n",
      "Collecting image 4\n",
      "Collecting image 5\n"
     ]
    }
   ],
   "source": [
    "for label in labels:\n",
    "    cap = cv2.VideoCapture(0)\n",
    "    print('Collecting images for {}'.format(label))\n",
    "    time.sleep(5)\n",
    "    for imgnum in range(number_imgs):\n",
    "        print('Collecting image {}'.format(imgnum))\n",
    "        ret, frame = cap.read()\n",
    "        imgname = os.path.join(IMAGES_PATH,label,label+'.'+'{}.jpg'.format(str(uuid.uuid1())))\n",
    "        cv2.imwrite(imgname, frame)\n",
    "        cv2.imshow('frame', frame)\n",
    "        time.sleep(2)\n",
    "\n",
    "        if cv2.waitKey(1) & 0xFF == ord('q'):\n",
    "            break\n",
    "cap.release()\n",
    "cv2.destroyAllWindows()"
   ]
  },
  {
   "cell_type": "markdown",
   "metadata": {},
   "source": [
    "# 5. Image Labelling"
   ]
  },
  {
   "cell_type": "code",
   "execution_count": 7,
   "metadata": {},
   "outputs": [
    {
     "name": "stdout",
     "output_type": "stream",
     "text": [
      "Collecting pyqt5\n",
      "  Using cached PyQt5-5.15.4-cp36.cp37.cp38.cp39-none-win_amd64.whl (6.8 MB)\n",
      "Collecting lxml\n",
      "  Using cached lxml-4.6.3-cp36-cp36m-win_amd64.whl (3.5 MB)\n",
      "Collecting PyQt5-sip<13,>=12.8\n",
      "  Using cached PyQt5_sip-12.8.1-cp36-cp36m-win_amd64.whl (62 kB)\n",
      "Collecting PyQt5-Qt5>=5.15\n",
      "  Using cached PyQt5_Qt5-5.15.2-py3-none-win_amd64.whl (50.1 MB)\n",
      "Installing collected packages: PyQt5-sip, PyQt5-Qt5, pyqt5, lxml\n",
      "Successfully installed PyQt5-Qt5-5.15.2 PyQt5-sip-12.8.1 lxml-4.6.3 pyqt5-5.15.4\n"
     ]
    }
   ],
   "source": [
    "!pip install --upgrade pyqt5 lxml"
   ]
  },
  {
   "cell_type": "code",
   "execution_count": 8,
   "metadata": {},
   "outputs": [],
   "source": [
    "LABELIMG_PATH = os.path.join('Tensorflow', 'labelimg')"
   ]
  },
  {
   "cell_type": "code",
   "execution_count": 10,
   "metadata": {},
   "outputs": [],
   "source": [
    "if not os.path.exists(LABELIMG_PATH):\n",
    "    !mkdir {LABELIMG_PATH}\n",
    "    !git clone https://github.com/tzutalin/labelImg {LABELIMG_PATH}"
   ]
  },
  {
   "cell_type": "code",
   "execution_count": 11,
   "metadata": {},
   "outputs": [],
   "source": [
    "if os.name == 'posix':\n",
    "    !cd {LABELIMG_PATH} && make qt5py3\n",
    "if os.name =='nt':\n",
    "    !cd {LABELIMG_PATH} && pyrcc5 -o libs/resources.py resources.qrc"
   ]
  },
  {
   "cell_type": "code",
   "execution_count": 12,
   "metadata": {},
   "outputs": [
    {
     "name": "stdout",
     "output_type": "stream",
     "text": [
      "Image:D:\\TFOD\\TFODCourse\\Tensorflow\\workspace\\images\\collectedimages\\livelong\\livelong.e8db7442-a667-11eb-8e99-9828a61ec817.jpg -> Annotation:D:/TFOD/TFODCourse/Tensorflow/workspace/images/collectedimages/livelong/livelong.e8db7442-a667-11eb-8e99-9828a61ec817.xml\n",
      "Image:D:\\TFOD\\TFODCourse\\Tensorflow\\workspace\\images\\collectedimages\\livelong\\livelong.e7a735e2-a667-11eb-8536-9828a61ec817.jpg -> Annotation:D:/TFOD/TFODCourse/Tensorflow/workspace/images/collectedimages/livelong/livelong.e7a735e2-a667-11eb-8536-9828a61ec817.xml\n",
      "Image:D:\\TFOD\\TFODCourse\\Tensorflow\\workspace\\images\\collectedimages\\livelong\\livelong.ea0fd2cc-a667-11eb-8fa1-9828a61ec817.jpg -> Annotation:D:/TFOD/TFODCourse/Tensorflow/workspace/images/collectedimages/livelong/livelong.ea0fd2cc-a667-11eb-8fa1-9828a61ec817.xml\n",
      "Image:D:\\TFOD\\TFODCourse\\Tensorflow\\workspace\\images\\collectedimages\\livelong\\livelong.eb44b636-a667-11eb-98c9-9828a61ec817.jpg -> Annotation:D:/TFOD/TFODCourse/Tensorflow/workspace/images/collectedimages/livelong/livelong.eb44b636-a667-11eb-98c9-9828a61ec817.xml\n",
      "Image:D:\\TFOD\\TFODCourse\\Tensorflow\\workspace\\images\\collectedimages\\livelong\\livelong.ec79a018-a667-11eb-8fa0-9828a61ec817.jpg -> Annotation:D:/TFOD/TFODCourse/Tensorflow/workspace/images/collectedimages/livelong/livelong.ec79a018-a667-11eb-8fa0-9828a61ec817.xml\n",
      "Image:D:\\TFOD\\TFODCourse\\Tensorflow\\workspace\\images\\collectedimages\\livelong\\livelong.edae6466-a667-11eb-a274-9828a61ec817.jpg -> Annotation:D:/TFOD/TFODCourse/Tensorflow/workspace/images/collectedimages/livelong/livelong.edae6466-a667-11eb-a274-9828a61ec817.xml\n",
      "Image:D:\\TFOD\\TFODCourse\\Tensorflow\\workspace\\images\\collectedimages\\thankyou\\thankyou.dcc1dfd8-a667-11eb-bc59-9828a61ec817.jpg -> Annotation:D:/TFOD/TFODCourse/Tensorflow/workspace/images/collectedimages/thankyou/thankyou.dcc1dfd8-a667-11eb-bc59-9828a61ec817.xml\n",
      "Image:D:\\TFOD\\TFODCourse\\Tensorflow\\workspace\\images\\collectedimages\\thankyou\\thankyou.df2a3aee-a667-11eb-afaa-9828a61ec817.jpg -> Annotation:D:/TFOD/TFODCourse/Tensorflow/workspace/images/collectedimages/thankyou/thankyou.df2a3aee-a667-11eb-afaa-9828a61ec817.xml\n",
      "Cancel creation.\n",
      "Image:D:\\TFOD\\TFODCourse\\Tensorflow\\workspace\\images\\collectedimages\\thankyou\\thankyou.ddf708d4-a667-11eb-80f7-9828a61ec817.jpg -> Annotation:D:/TFOD/TFODCourse/Tensorflow/workspace/images/collectedimages/thankyou/thankyou.ddf708d4-a667-11eb-80f7-9828a61ec817.xml\n",
      "Image:D:\\TFOD\\TFODCourse\\Tensorflow\\workspace\\images\\collectedimages\\thankyou\\thankyou.e2c5aada-a667-11eb-9925-9828a61ec817.jpg -> Annotation:D:/TFOD/TFODCourse/Tensorflow/workspace/images/collectedimages/thankyou/thankyou.e2c5aada-a667-11eb-9925-9828a61ec817.xml\n",
      "Image:D:\\TFOD\\TFODCourse\\Tensorflow\\workspace\\images\\collectedimages\\thankyou\\thankyou.e05dde7e-a667-11eb-9db0-9828a61ec817.jpg -> Annotation:D:/TFOD/TFODCourse/Tensorflow/workspace/images/collectedimages/thankyou/thankyou.e05dde7e-a667-11eb-9db0-9828a61ec817.xml\n",
      "Image:D:\\TFOD\\TFODCourse\\Tensorflow\\workspace\\images\\collectedimages\\thankyou\\thankyou.e190fa70-a667-11eb-b984-9828a61ec817.jpg -> Annotation:D:/TFOD/TFODCourse/Tensorflow/workspace/images/collectedimages/thankyou/thankyou.e190fa70-a667-11eb-b984-9828a61ec817.xml\n",
      "Image:D:\\TFOD\\TFODCourse\\Tensorflow\\workspace\\images\\collectedimages\\thumbsdown\\thumbsdown.d1dc8c88-a667-11eb-88d4-9828a61ec817.jpg -> Annotation:D:/TFOD/TFODCourse/Tensorflow/workspace/images/collectedimages/thumbsdown/thumbsdown.d1dc8c88-a667-11eb-88d4-9828a61ec817.xml\n",
      "Image:D:\\TFOD\\TFODCourse\\Tensorflow\\workspace\\images\\collectedimages\\thumbsdown\\thumbsdown.d6ad7cca-a667-11eb-9c55-9828a61ec817.jpg -> Annotation:D:/TFOD/TFODCourse/Tensorflow/workspace/images/collectedimages/thumbsdown/thumbsdown.d6ad7cca-a667-11eb-9c55-9828a61ec817.xml\n",
      "Image:D:\\TFOD\\TFODCourse\\Tensorflow\\workspace\\images\\collectedimages\\thumbsdown\\thumbsdown.d7e1c29c-a667-11eb-933a-9828a61ec817.jpg -> Annotation:D:/TFOD/TFODCourse/Tensorflow/workspace/images/collectedimages/thumbsdown/thumbsdown.d7e1c29c-a667-11eb-933a-9828a61ec817.xml\n",
      "Image:D:\\TFOD\\TFODCourse\\Tensorflow\\workspace\\images\\collectedimages\\thumbsdown\\thumbsdown.d31233fe-a667-11eb-b74a-9828a61ec817.jpg -> Annotation:D:/TFOD/TFODCourse/Tensorflow/workspace/images/collectedimages/thumbsdown/thumbsdown.d31233fe-a667-11eb-b74a-9828a61ec817.xml\n",
      "Image:D:\\TFOD\\TFODCourse\\Tensorflow\\workspace\\images\\collectedimages\\thumbsdown\\thumbsdown.d579943a-a667-11eb-8f46-9828a61ec817.jpg -> Annotation:D:/TFOD/TFODCourse/Tensorflow/workspace/images/collectedimages/thumbsdown/thumbsdown.d579943a-a667-11eb-8f46-9828a61ec817.xml\n",
      "Image:D:\\TFOD\\TFODCourse\\Tensorflow\\workspace\\images\\collectedimages\\thumbsdown\\thumbsdown.d4454286-a667-11eb-9a5d-9828a61ec817.jpg -> Annotation:D:/TFOD/TFODCourse/Tensorflow/workspace/images/collectedimages/thumbsdown/thumbsdown.d4454286-a667-11eb-9a5d-9828a61ec817.xml\n",
      "Image:D:\\TFOD\\TFODCourse\\Tensorflow\\workspace\\images\\collectedimages\\thumbsup\\thumbsup.c82a8dc6-a667-11eb-af55-9828a61ec817.jpg -> Annotation:D:/TFOD/TFODCourse/Tensorflow/workspace/images/collectedimages/thumbsup/thumbsup.c82a8dc6-a667-11eb-af55-9828a61ec817.xml\n",
      "Image:D:\\TFOD\\TFODCourse\\Tensorflow\\workspace\\images\\collectedimages\\thumbsup\\thumbsup.c95e54d4-a667-11eb-bd9f-9828a61ec817.jpg -> Annotation:D:/TFOD/TFODCourse/Tensorflow/workspace/images/collectedimages/thumbsup/thumbsup.c95e54d4-a667-11eb-bd9f-9828a61ec817.xml\n",
      "Image:D:\\TFOD\\TFODCourse\\Tensorflow\\workspace\\images\\collectedimages\\thumbsup\\thumbsup.ca934b52-a667-11eb-a614-9828a61ec817.jpg -> Annotation:D:/TFOD/TFODCourse/Tensorflow/workspace/images/collectedimages/thumbsup/thumbsup.ca934b52-a667-11eb-a614-9828a61ec817.xml\n",
      "Image:D:\\TFOD\\TFODCourse\\Tensorflow\\workspace\\images\\collectedimages\\thumbsup\\thumbsup.cbc7c8dc-a667-11eb-9092-9828a61ec817.jpg -> Annotation:D:/TFOD/TFODCourse/Tensorflow/workspace/images/collectedimages/thumbsup/thumbsup.cbc7c8dc-a667-11eb-9092-9828a61ec817.xml\n",
      "Image:D:\\TFOD\\TFODCourse\\Tensorflow\\workspace\\images\\collectedimages\\thumbsup\\thumbsup.ccfbcbc0-a667-11eb-8121-9828a61ec817.jpg -> Annotation:D:/TFOD/TFODCourse/Tensorflow/workspace/images/collectedimages/thumbsup/thumbsup.ccfbcbc0-a667-11eb-8121-9828a61ec817.xml\n"
     ]
    }
   ],
   "source": [
    "!cd {LABELIMG_PATH} && python labelImg.py"
   ]
  },
  {
   "cell_type": "markdown",
   "metadata": {},
   "source": [
    "# 6. Move them into a Training and Testing Partition"
   ]
  },
  {
   "cell_type": "markdown",
   "metadata": {},
   "source": [
    "# OPTIONAL - 7. Compress them for Colab Training"
   ]
  },
  {
   "cell_type": "code",
   "execution_count": 20,
   "metadata": {},
   "outputs": [],
   "source": [
    "TRAIN_PATH = os.path.join('Tensorflow', 'workspace', 'images', 'train')\n",
    "TEST_PATH = os.path.join('Tensorflow', 'workspace', 'images', 'test')\n",
    "ARCHIVE_PATH = os.path.join('Tensorflow', 'workspace', 'images', 'archive.tar.gz')"
   ]
  },
  {
   "cell_type": "code",
   "execution_count": 21,
   "metadata": {},
   "outputs": [],
   "source": [
    "!tar -czf {ARCHIVE_PATH} {TRAIN_PATH} {TEST_PATH}"
   ]
  },
  {
   "cell_type": "code",
   "execution_count": null,
   "metadata": {},
   "outputs": [],
   "source": []
  }
 ],
 "metadata": {
  "kernelspec": {
   "display_name": "tfod",
   "language": "python",
   "name": "tfod"
  },
  "language_info": {
   "codemirror_mode": {
    "name": "ipython",
    "version": 3
   },
   "file_extension": ".py",
   "mimetype": "text/x-python",
   "name": "python",
   "nbconvert_exporter": "python",
   "pygments_lexer": "ipython3",
   "version": "3.6.13"
  }
 },
 "nbformat": 4,
 "nbformat_minor": 2
}
